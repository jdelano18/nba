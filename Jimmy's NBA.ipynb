{
 "cells": [
  {
   "cell_type": "code",
   "execution_count": 1,
   "metadata": {
    "collapsed": false,
    "deletable": true,
    "editable": true
   },
   "outputs": [
    {
     "name": "stderr",
     "output_type": "stream",
     "text": [
      "/opt/conda/lib/python3.5/site-packages/sklearn/cross_validation.py:44: DeprecationWarning: This module was deprecated in version 0.18 in favor of the model_selection module into which all the refactored classes and functions are moved. Also note that the interface of the new CV iterators are different from that of this module. This module will be removed in 0.20.\n",
      "  \"This module will be removed in 0.20.\", DeprecationWarning)\n"
     ]
    }
   ],
   "source": [
    "import pandas as pd\n",
    "import numpy as np\n",
    "import json\n",
    "from sklearn.cross_validation import train_test_split\n",
    "from sklearn.metrics import accuracy_score, confusion_matrix\n",
    "from sklearn.tree import DecisionTreeClassifier"
   ]
  },
  {
   "cell_type": "code",
   "execution_count": 2,
   "metadata": {
    "collapsed": true,
    "deletable": true,
    "editable": true
   },
   "outputs": [],
   "source": [
    "teams_dict = {}\n",
    "with open(\"teams.json\", 'r') as _f:\n",
    "    teams_dict = json.load(_f)\n",
    "\n",
    "def convert_team(name):\n",
    "    #name : full name 'Charlotte Hornets' --> return : abbreviation 'CHO'\n",
    "    \n",
    "    convert_dict = {}\n",
    "    for team in teams_dict:\n",
    "        convert_dict[team['teamName']] = team['abbreviation']\n",
    "    \n",
    "    #team name changes in the past few years\n",
    "    name_changes = {\n",
    "        'Charlotte Hornets': 'CHO',\n",
    "        'Charlotte Bobcats': 'CHA',\n",
    "        'New Orleans Hornets': 'NOH',\n",
    "        'New Orleans Pelicans': 'NOP',\n",
    "        'Brooklyn Nets': 'BRK'\n",
    "    }\n",
    "    if name in name_changes:\n",
    "        return name_changes[name]\n",
    "    \n",
    "    return convert_dict[name]"
   ]
  },
  {
   "cell_type": "code",
   "execution_count": 3,
   "metadata": {
    "collapsed": true,
    "deletable": true,
    "editable": true
   },
   "outputs": [],
   "source": [
    "schedules = pd.read_csv('2012_2017_schedules.csv', index_col=0)\n",
    "played_schedule = schedules.dropna()\n",
    "played_schedule['start_time'] = pd.to_datetime(played_schedule['start_time'])\\\n",
    "                                .dt.tz_localize('UTC').dt.tz_convert('US/Eastern')\n",
    "\n",
    "box_scores = pd.read_csv('2012_2017_box_scores.csv', index_col=0)\n",
    "box_scores['date'] = pd.to_datetime(box_scores['date'])\n",
    "\n",
    "season_stats = pd.read_csv('2012_2017_season_player_stats.csv', index_col=0)"
   ]
  },
  {
   "cell_type": "code",
   "execution_count": 4,
   "metadata": {
    "collapsed": false,
    "deletable": true,
    "editable": true
   },
   "outputs": [
    {
     "data": {
      "text/html": [
       "<div>\n",
       "<table border=\"1\" class=\"dataframe\">\n",
       "  <thead>\n",
       "    <tr style=\"text-align: right;\">\n",
       "      <th></th>\n",
       "      <th>home_team_name</th>\n",
       "      <th>home_team_score</th>\n",
       "      <th>start_time</th>\n",
       "      <th>visiting_team_name</th>\n",
       "      <th>visiting_team_score</th>\n",
       "    </tr>\n",
       "  </thead>\n",
       "  <tbody>\n",
       "    <tr>\n",
       "      <th>0</th>\n",
       "      <td>Cleveland Cavaliers</td>\n",
       "      <td>94.0</td>\n",
       "      <td>2012-10-30 19:00:00-04:00</td>\n",
       "      <td>Washington Wizards</td>\n",
       "      <td>84.0</td>\n",
       "    </tr>\n",
       "    <tr>\n",
       "      <th>1</th>\n",
       "      <td>Los Angeles Lakers</td>\n",
       "      <td>91.0</td>\n",
       "      <td>2012-10-30 19:30:00-04:00</td>\n",
       "      <td>Dallas Mavericks</td>\n",
       "      <td>99.0</td>\n",
       "    </tr>\n",
       "    <tr>\n",
       "      <th>2</th>\n",
       "      <td>Miami Heat</td>\n",
       "      <td>120.0</td>\n",
       "      <td>2012-10-30 20:00:00-04:00</td>\n",
       "      <td>Boston Celtics</td>\n",
       "      <td>107.0</td>\n",
       "    </tr>\n",
       "    <tr>\n",
       "      <th>3</th>\n",
       "      <td>Chicago Bulls</td>\n",
       "      <td>93.0</td>\n",
       "      <td>2012-10-31 19:00:00-04:00</td>\n",
       "      <td>Sacramento Kings</td>\n",
       "      <td>87.0</td>\n",
       "    </tr>\n",
       "    <tr>\n",
       "      <th>4</th>\n",
       "      <td>Detroit Pistons</td>\n",
       "      <td>96.0</td>\n",
       "      <td>2012-10-31 19:30:00-04:00</td>\n",
       "      <td>Houston Rockets</td>\n",
       "      <td>105.0</td>\n",
       "    </tr>\n",
       "  </tbody>\n",
       "</table>\n",
       "</div>"
      ],
      "text/plain": [
       "        home_team_name  home_team_score                start_time  \\\n",
       "0  Cleveland Cavaliers             94.0 2012-10-30 19:00:00-04:00   \n",
       "1   Los Angeles Lakers             91.0 2012-10-30 19:30:00-04:00   \n",
       "2           Miami Heat            120.0 2012-10-30 20:00:00-04:00   \n",
       "3        Chicago Bulls             93.0 2012-10-31 19:00:00-04:00   \n",
       "4      Detroit Pistons             96.0 2012-10-31 19:30:00-04:00   \n",
       "\n",
       "   visiting_team_name  visiting_team_score  \n",
       "0  Washington Wizards                 84.0  \n",
       "1    Dallas Mavericks                 99.0  \n",
       "2      Boston Celtics                107.0  \n",
       "3    Sacramento Kings                 87.0  \n",
       "4     Houston Rockets                105.0  "
      ]
     },
     "execution_count": 4,
     "metadata": {},
     "output_type": "execute_result"
    }
   ],
   "source": [
    "played_schedule.head()"
   ]
  },
  {
   "cell_type": "code",
   "execution_count": 5,
   "metadata": {
    "collapsed": true,
    "deletable": true,
    "editable": true
   },
   "outputs": [],
   "source": [
    "def get_starters(home_team, visitor_team, date):\n",
    "     \n",
    "#     home_team: team abbreviation ex. 'CLE'\n",
    "#     visitor_team: same thing ex.'BOS'\n",
    "#     date: datetime object --> datetime.date(YYYY, MM, DD)\n",
    "#     returns list of lists of tuples: [[('Lebron', 'James'), ...], [('Kyrie', 'Irving'), ...]]\n",
    "\n",
    "    df_slice = box_scores.query('team==\"'+ home_team +'\" or team==\"'+ visitor_team +'\"')\n",
    "    game_players = df_slice[df_slice['date'] == date] \n",
    "    \n",
    "    home_players = game_players[game_players['team']==home_team]\n",
    "    home_starters_df = home_players.sort_values('seconds_played', ascending=False).head(5)\n",
    "    home_starters = [(p['first_name'], p['last_name']) for _,p in home_starters_df.iterrows()]\n",
    "    \n",
    "    visitor_players = game_players[game_players['team']==visitor_team]\n",
    "    visitor_starters_df = visitor_players.sort_values('seconds_played', ascending=False).head(5)\n",
    "    visitor_starters = [(p['first_name'], p['last_name']) for _,p in visitor_starters_df.iterrows()]\n",
    "    return home_starters, visitor_starters"
   ]
  },
  {
   "cell_type": "code",
   "execution_count": 6,
   "metadata": {
    "collapsed": true,
    "deletable": true,
    "editable": true
   },
   "outputs": [],
   "source": [
    "def safe_divide (x, y):\n",
    "    if y == 0:\n",
    "        return 0\n",
    "    return x / y"
   ]
  },
  {
   "cell_type": "code",
   "execution_count": 34,
   "metadata": {
    "collapsed": false,
    "deletable": true,
    "editable": true
   },
   "outputs": [],
   "source": [
    "def get_previous_wins(team, opponent, date): \n",
    "#     team: full name ex 'Cleveland Cavaliers'\n",
    "#     opponent: same thing ex 'Boston Celtics'\n",
    "#     date: datetime object --> datetime.date(YYYY, MM, DD)\n",
    "#     returns dict of a bunch of statistics\n",
    "    \n",
    "    \n",
    "    # NBA season starts in late fall and ends in May/June\n",
    "    # Here, we get a lower bound for games in *this season*\n",
    "    lower_year = date.year\n",
    "    if date.month < 7:\n",
    "        lower_year -= 1\n",
    "    lower_bound = pd.to_datetime('09-01-' + str(lower_year)).date()\n",
    "    \n",
    "    # Grab only the games that our team was involved in\n",
    "    df_slice = played_schedule[(played_schedule['start_time'] < date) & (played_schedule['start_time'] > lower_bound)]\n",
    "    our_team_slice = df_slice.query('home_team_name==\"' + team + '\" or visiting_team_name==\"' + team + '\"')\n",
    "    \n",
    "    # Get our home and visiting wins\n",
    "    home_wins = our_team_slice.apply(lambda row: row['home_team_name'] == team and\\\n",
    "                                     row['home_team_score'] > row['visiting_team_score'], axis=1)\n",
    "    home_wins = home_wins.sum() if not home_wins.empty else 0\n",
    "    visiting_wins = our_team_slice.apply(lambda row: row['visiting_team_name'] == team and\\\n",
    "                                     row['home_team_score'] < row['visiting_team_score'], axis=1)\n",
    "    visiting_wins = visiting_wins.sum() if not visiting_wins.empty else 0\n",
    "    \n",
    "    #get total number of games at home and away\n",
    "    home_games_played = our_team_slice.apply(lambda row: row['home_team_name'] == team, axis=1)\n",
    "    home_games_played = home_games_played.sum() if not home_games_played.empty else 0\n",
    "    visiting_games_played = our_team_slice.apply(lambda row: row['visiting_team_name'] == team, axis=1)\n",
    "    visiting_games_played = visiting_games_played.sum() if not visiting_games_played.empty else 0\n",
    "    \n",
    "    # Calculate current win streak against all teams (if applicable)\n",
    "    avg_home_points_for = []\n",
    "    avg_points_given_up_at_home = []\n",
    "    avg_away_points_for = []\n",
    "    avg_points_given_up_away = []\n",
    "    for _, row in our_team_slice.sort_values('start_time', ascending=False).iterrows():\n",
    "        if row['home_team_name'] == team:\n",
    "            avg_home_points_for.append(row['home_team_score'])\n",
    "            avg_points_given_up_at_home.append(row['visiting_team_score'])\n",
    "        elif row ['visiting_team_name'] == team:\n",
    "            avg_away_points_for.append(row['visiting_team_score'])\n",
    "            avg_points_given_up_away.append(row['home_team_score'])\n",
    "        else:\n",
    "            break\n",
    "    \n",
    "    win_streak = 0\n",
    "    for _,row in our_team_slice.sort_values('start_time', ascending=False).iterrows():\n",
    "        if row['home_team_name'] == team and row['home_team_score'] > row['visiting_team_score']:\n",
    "            win_streak += 1\n",
    "        elif row['visiting_team_name'] == team and row['home_team_score'] < row['visiting_team_score']:\n",
    "            win_streak += 1\n",
    "        else:\n",
    "            break\n",
    "    \n",
    "    # Calculate current loss streak against all teams (if applicable)\n",
    "    losing_streak = 0\n",
    "    if win_streak > 0:\n",
    "        pass\n",
    "    else:\n",
    "        for _,row in our_team_slice.sort_values('start_time', ascending=False).iterrows():\n",
    "            if row['home_team_name'] == team and row['home_team_score'] < row['visiting_team_score']:\n",
    "                losing_streak += 1\n",
    "            elif row['visiting_team_name'] == team and row['home_team_score'] > row['visiting_team_score']:\n",
    "                losing_streak += 1\n",
    "            else:\n",
    "                break\n",
    "                \n",
    "    # Calculate the result of the season series against this opponent (includes home + away games)\n",
    "    season_series = our_team_slice.query('home_team_name==\"' + opponent + '\" or visiting_team_name==\"' + opponent + '\"')\n",
    "    season_series_wins = 0\n",
    "    season_series_losses = 0\n",
    "    for _,row in season_series.iterrows():\n",
    "        if row['home_team_name'] == team:\n",
    "            if row['home_team_score'] > row['visiting_team_score']:\n",
    "                season_series_wins += 1\n",
    "            else:\n",
    "                season_series_losses +=1\n",
    "        elif row['visiting_team_name'] == team:\n",
    "            if row['home_team_score'] < row['visiting_team_score']:\n",
    "                season_series_wins += 1\n",
    "            else:\n",
    "                season_series_losses += 1\n",
    "    \n",
    "    return {\n",
    "        'wins_as_home_team': home_wins,\n",
    "        'wins_as_visiting_team': visiting_wins,\n",
    "        'total_current_wins': (home_wins + visiting_wins),\n",
    "        'current_win_streak': win_streak,\n",
    "        'current_losing_streak': losing_streak,\n",
    "        'season_series_wins': season_series_wins,\n",
    "        'season_series_losses': season_series_losses,\n",
    "        'home_win_percent': safe_divide(home_wins, home_games_played),\n",
    "        'visiting_win_percent': safe_divide(visiting_wins, visiting_games_played),\n",
    "        'total_win_percent': safe_divide((home_wins + visiting_wins),\\\n",
    "                                         (home_games_played + visiting_games_played)),\n",
    "        'avg_points_scored_at_home': safe_divide(sum(avg_home_points_for), len(avg_home_points_for)),\n",
    "        'avg_points_given_up_at_home': safe_divide(sum(avg_points_given_up_at_home), len(avg_points_given_up_at_home)),\n",
    "        'avg_points_scored_away': safe_divide(sum(avg_away_points_for), len(avg_away_points_for)),\n",
    "        'avg_points_given_up_away': safe_divide(sum(avg_points_given_up_away),len(avg_points_given_up_away)),\n",
    "        'avg_points_for': safe_divide(sum(avg_home_points_for + avg_away_points_for),\\\n",
    "                                      len(avg_home_points_for + avg_away_points_for)),\n",
    "        'avg_points_given_up': safe_divide(sum(avg_points_given_up_at_home + avg_points_given_up_away),\\\n",
    "                                          len(avg_points_given_up_at_home + avg_points_given_up_away))\n",
    "    }"
   ]
  },
  {
   "cell_type": "code",
   "execution_count": 38,
   "metadata": {
    "collapsed": true,
    "deletable": true,
    "editable": true
   },
   "outputs": [],
   "source": [
    "def get_player_to_date_stats(player,date):\n",
    "\n",
    "#     player: player name in a tuple ('first_name','last_name')\n",
    "#     date: datetime object --> datetime.date(YYYY, MM, DD)\n",
    "#     returns dict of player to date features\n",
    "\n",
    "    # NBA season starts in late fall and ends in May/June\n",
    "    # Get a lower bound for games in *this season*\n",
    "    lower_year = date.year\n",
    "    if date.month < 7:\n",
    "        lower_year -= 1\n",
    "    lower_bound = pd.to_datetime('09-01-' + str(lower_year)).date()\n",
    "    \n",
    "    # Grab only the games that player was involved in\n",
    "    df_slice = box_scores[(box_scores['date'] < date) & (box_scores['date'] > lower_bound)]\n",
    "    player_slice = df_slice[(df_slice['first_name'] == player[0]) & (df_slice['last_name'] == player[1])]\n",
    "    \n",
    "    # Calculate player statistics\n",
    "    if player_slice.points.mean() > 0:\n",
    "        points_per_game = player_slice.points.mean()\n",
    "    else:\n",
    "        points_per_game = 0\n",
    "    if player_slice.total_rebounds.mean() > 0:\n",
    "        rebounds_per_game = player_slice.total_rebounds.mean()\n",
    "    else:\n",
    "        rebounds_per_game = 0\n",
    "    if player_slice.assists.mean() > 0:\n",
    "        assists_per_game = player_slice.assists.mean()\n",
    "    else:\n",
    "        assists_per_game = 0\n",
    "    if player_slice.field_goal_attempts.mean() > 0:\n",
    "        field_goal_percent = (player_slice.field_goals.mean()/player_slice.field_goal_attempts.mean())\n",
    "    else:\n",
    "        field_goal_percent = 0\n",
    "    if player_slice.free_throw_attempts.mean() > 0:\n",
    "        free_throw_percent = (player_slice.free_throws.mean()/player_slice.free_throw_attempts.mean())\n",
    "    else:\n",
    "        free_throw_percent = 0\n",
    "    if player_slice.three_point_field_goal_attempts.mean() > 0:\n",
    "        three_point_percent = (player_slice.three_point_field_goals.mean()/\\\n",
    "                               player_slice.three_point_field_goal_attempts.mean())\n",
    "    else:\n",
    "        three_point_percent = 0\n",
    "    \n",
    "    # Return statistics in a dictionary\n",
    "    return {\n",
    "        'points_per_game': points_per_game,\n",
    "        'rebounds_per_game': rebounds_per_game,\n",
    "        'assists_per_game': assists_per_game,\n",
    "        'field_goal_percent': field_goal_percent,\n",
    "        'free_throw_percent': free_throw_percent,\n",
    "        'three_point_percent': three_point_percent\n",
    "    }"
   ]
  },
  {
   "cell_type": "code",
   "execution_count": 10,
   "metadata": {
    "collapsed": false,
    "deletable": true,
    "editable": true
   },
   "outputs": [],
   "source": [
    "# %%time\n",
    "\n",
    "# X, Y = [], []\n",
    "# df_regr_list = []\n",
    "\n",
    "# for _, row in played_schedule.iterrows():   \n",
    "#     # This dict contains all of the feature keys and values for this game\n",
    "#     game_dict = {}\n",
    "    \n",
    "#     # Get the teams and starting players for this game\n",
    "#     game_date = row['start_time'].date()\n",
    "#     home = convert_team(row['home_team_name'])\n",
    "#     visitors = convert_team(row['visiting_team_name'])\n",
    "#     home_starters, visitor_starters = get_starters(home, visitors, game_date)\n",
    "    \n",
    "#     # Add some housekeeping features to track this particular game\n",
    "#     game_dict['home_team_name'] = row['home_team_name']\n",
    "#     game_dict['home_team_abbr'] = home\n",
    "#     game_dict['visiting_team_name'] = row['visiting_team_name']\n",
    "#     game_dict['visiting_team_abbr'] = visitors\n",
    "#     game_dict['game_date'] = game_date\n",
    "    \n",
    "#     # Create some number of player-based features for our starters\n",
    "#     game_dict['home_starters_points_per_game'] = 0\n",
    "#     game_dict['home_starters_rebounds_per_game'] = 0\n",
    "#     game_dict['home_starters_assists_per_game'] = 0\n",
    "#     for player_i in range(len(home_starters)):\n",
    "#         player_i_stats = get_player_to_date_stats(home_starters[player_i], game_date)\n",
    "#         game_dict['home_starters_points_per_game'] += player_i_stats['points_per_game']\n",
    "#         game_dict['home_starters_rebounds_per_game'] += player_i_stats['rebounds_per_game']\n",
    "#         game_dict['home_starters_assists_per_game'] += player_i_stats['assists_per_game']\n",
    "\n",
    "        \n",
    "#     # Create some number of player-based features for the visitors\n",
    "#     game_dict['visitor_starters_points_per_game'] = 0\n",
    "#     game_dict['visitor_starters_rebounds_per_game'] = 0\n",
    "#     game_dict['visitor_starters_assists_per_game'] = 0\n",
    "#     for player_i in range(len(visitor_starters)):\n",
    "#         player_i_stats = get_player_to_date_stats(visitor_starters[player_i],game_date)\n",
    "#         game_dict['visitor_starters_points_per_game'] += player_i_stats['points_per_game']\n",
    "#         game_dict['visitor_starters_rebounds_per_game'] += player_i_stats['rebounds_per_game']\n",
    "#         game_dict['visitor_starters_assists_per_game'] += player_i_stats['assists_per_game']\n",
    "    \n",
    "    \n",
    "        \n",
    "#     # Create the win-based features for the teams\n",
    "#     game_dict['home_won'] = row['home_team_score'] > row['visiting_team_score']\n",
    "#     home_win_stats = get_previous_wins(row['home_team_name'], row['visiting_team_name'], game_date)\n",
    "#     game_dict['home_team_total_wins'] = home_win_stats['total_current_wins']\n",
    "#     game_dict['home_team_wins_as_home'] = home_win_stats['wins_as_home_team']\n",
    "#     game_dict['home_team_wins_as_visitor'] = home_win_stats['wins_as_visiting_team']\n",
    "#     game_dict['home_team_current_win_streak'] = home_win_stats['current_win_streak']\n",
    "#     game_dict['home_team_current_losing_streak'] = home_win_stats['current_losing_streak']\n",
    "#     game_dict['home_team_season_series_wins'] = home_win_stats['season_series_wins']\n",
    "#     game_dict['home_team_season_series_losses'] = home_win_stats['season_series_losses']\n",
    "#     visiting_win_stats = get_previous_wins(row['visiting_team_name'], row['home_team_name'], game_date)\n",
    "#     game_dict['visiting_team_total_wins'] = visiting_win_stats['total_current_wins']\n",
    "#     game_dict['visiting_team_wins_as_home'] = visiting_win_stats['wins_as_home_team']\n",
    "#     game_dict['visiting_team_wins_as_visitor'] = visiting_win_stats['wins_as_visiting_team']\n",
    "#     game_dict['visiting_team_current_win_streak'] = visiting_win_stats['current_win_streak']\n",
    "#     game_dict['visiting_team_current_losing_streak'] = visiting_win_stats['current_losing_streak']\n",
    "#     game_dict['visiting_team_season_series_wins'] = visiting_win_stats['season_series_wins']\n",
    "#     game_dict['visiting_team_season_series_losses'] = visiting_win_stats['season_series_losses']\n",
    "    \n",
    "#     df_regr_list.append(game_dict)"
   ]
  },
  {
   "cell_type": "code",
   "execution_count": null,
   "metadata": {
    "collapsed": true,
    "deletable": true,
    "editable": true
   },
   "outputs": [],
   "source": [
    "# # Generate feature DataFrame and also save to CSV so we don't have to re-run later\n",
    "# df_regr = pd.DataFrame(df_regr_list)\n",
    "# df_regr.to_csv('df_regr.csv')"
   ]
  },
  {
   "cell_type": "code",
   "execution_count": null,
   "metadata": {
    "collapsed": false,
    "deletable": true,
    "editable": true
   },
   "outputs": [],
   "source": [
    "# %%time\n",
    "# # Limit our feature set to these features for now\n",
    "# features = ['home_team_current_losing_streak', 'home_team_current_win_streak', 'home_team_season_series_losses',\n",
    "#            'home_team_season_series_wins', 'home_team_total_wins', \n",
    "#             'home_team_wins_as_home', 'home_team_wins_as_visitor','visiting_team_current_losing_streak', \n",
    "#             'visiting_team_current_win_streak', 'visiting_team_season_series_losses',\n",
    "#             'visiting_team_season_series_wins', 'visiting_team_total_wins', 'visiting_team_wins_as_home', \n",
    "#             'visiting_team_wins_as_visitor']\n",
    "# X_features_subset = df_regr[features]\n",
    "\n",
    "# # Standard train/test/split, fit, and predict step\n",
    "# #70% of all stats, 30% of all stats, 70% of win/loss, 30% of win/loss\n",
    "# X_train, X_test, y_train, y_test = train_test_split(X_features_subset, df_regr['home_won'], test_size=.3)\n",
    "# classifier = DecisionTreeClassifier()\n",
    "# classifier = classifier.fit(X_train, y_train)\n",
    "# predictions = classifier.predict(X_test)\n",
    "\n",
    "# #predicted wins (true positive), actual wins (false positive)\n",
    "# #predicted losses (false negative), actual losses (true negative)\n",
    "\n",
    "# print(confusion_matrix(y_test, predictions))\n",
    "# print(\"Accuracy: {0:.1f}%\".format(accuracy_score(y_test, predictions) * 100))"
   ]
  },
  {
   "cell_type": "code",
   "execution_count": 100,
   "metadata": {
    "collapsed": true,
    "deletable": true,
    "editable": true
   },
   "outputs": [],
   "source": [
    "from sklearn.model_selection import GridSearchCV"
   ]
  },
  {
   "cell_type": "code",
   "execution_count": null,
   "metadata": {
    "collapsed": false,
    "deletable": true,
    "editable": true
   },
   "outputs": [],
   "source": [
    "%%time\n",
    "dtc_parameters = {\n",
    "    'criterion':['gini','entropy'],\n",
    "    'splitter':['best','random'],\n",
    "    'max_depth':[None,1,2,4,5,6,7,8,10,12],\n",
    "    'min_samples_split':[2,3,4,5,6,7,10],\n",
    "    'max_features':[None,'log2','sqrt',2,4,6,8,10,12]\n",
    "}\n",
    "#cv = number of cross validation folds\n",
    "dtc_gs = GridSearchCV(DecisionTreeClassifier(), dtc_parameters, cv=5, verbose = 0) "
   ]
  },
  {
   "cell_type": "code",
   "execution_count": null,
   "metadata": {
    "collapsed": false,
    "deletable": true,
    "editable": true
   },
   "outputs": [],
   "source": [
    "%%time\n",
    "dtc_gs.fit(X_features_subset,df_regr['home_won'])"
   ]
  },
  {
   "cell_type": "code",
   "execution_count": null,
   "metadata": {
    "collapsed": false,
    "deletable": true,
    "editable": true
   },
   "outputs": [],
   "source": [
    "print(dtc_gs.best_score_)\n",
    "print(dtc_gs.best_params_)\n",
    "print(dtc_gs.best_estimator_)"
   ]
  },
  {
   "cell_type": "code",
   "execution_count": null,
   "metadata": {
    "collapsed": false,
    "deletable": true,
    "editable": true
   },
   "outputs": [],
   "source": [
    "#find feature importance\n",
    "fi = pd.DataFrame({\n",
    "    'feature' : X_features_subset.columns, \n",
    "    'importance': dtc_gs.best_estimator_.feature_importances_\n",
    "})\n",
    "fi.sort_values('importance', ascending = False, inplace = True)\n",
    "fi"
   ]
  },
  {
   "cell_type": "code",
   "execution_count": null,
   "metadata": {
    "collapsed": true,
    "deletable": true,
    "editable": true
   },
   "outputs": [],
   "source": [
    "features = ['home_team_current_losing_streak', 'home_team_season_series_losses',\n",
    "           'home_team_season_series_wins', 'home_team_total_wins', 'home_team_wins_as_home', \n",
    "            'home_team_wins_as_visitor', 'visiting_team_current_win_streak',\n",
    "            'visiting_team_season_series_wins', 'visiting_team_total_wins', \n",
    "            'visiting_team_wins_as_home', 'visiting_team_wins_as_visitor']\n",
    "X_features_subset = df_regr[features]"
   ]
  },
  {
   "cell_type": "code",
   "execution_count": null,
   "metadata": {
    "collapsed": false,
    "deletable": true,
    "editable": true
   },
   "outputs": [],
   "source": [
    "X_train, X_test, y_train, y_test = train_test_split(X_features_subset, df_regr['home_won'], test_size=.3)\n",
    "classifier = DecisionTreeClassifier()\n",
    "classifier = classifier.fit(X_train, y_train)\n",
    "predictions = classifier.predict(X_test)\n",
    "\n",
    "#predicted wins (true positive), actual wins (false positive)\n",
    "#predicted losses (false negative), actual losses (true negative)\n",
    "\n",
    "print(confusion_matrix(y_test, predictions))\n",
    "print(\"Accuracy: {0:.1f}%\".format(accuracy_score(y_test, predictions) * 100))"
   ]
  },
  {
   "cell_type": "code",
   "execution_count": null,
   "metadata": {
    "collapsed": false,
    "deletable": true,
    "editable": true
   },
   "outputs": [],
   "source": [
    "%%time\n",
    "dtc_parameters = {\n",
    "    'criterion':['gini','entropy'],\n",
    "    'splitter':['best','random'],\n",
    "    'max_depth':[None,1,2,4,5,6,7,8,10,12],\n",
    "    'min_samples_split':[2,3,4,5,6,7,10],\n",
    "    'max_features':[None,'log2','sqrt',2,4,6,8,9]\n",
    "}\n",
    "#cv = number of cross validation folds\n",
    "dtc_gs = GridSearchCV(DecisionTreeClassifier(), dtc_parameters, cv=5, verbose = 0) "
   ]
  },
  {
   "cell_type": "code",
   "execution_count": null,
   "metadata": {
    "collapsed": false,
    "deletable": true,
    "editable": true
   },
   "outputs": [],
   "source": [
    "%%time\n",
    "dtc_gs.fit(X_features_subset,df_regr['home_won'])"
   ]
  },
  {
   "cell_type": "code",
   "execution_count": null,
   "metadata": {
    "collapsed": false,
    "deletable": true,
    "editable": true
   },
   "outputs": [],
   "source": [
    "print(dtc_gs.best_score_)\n",
    "print(dtc_gs.best_params_)\n",
    "print(dtc_gs.best_estimator_)"
   ]
  },
  {
   "cell_type": "code",
   "execution_count": 11,
   "metadata": {
    "collapsed": false,
    "deletable": true,
    "editable": true
   },
   "outputs": [
    {
     "name": "stdout",
     "output_type": "stream",
     "text": [
      "CPU times: user 14min 25s, sys: 1.8 s, total: 14min 27s\n",
      "Wall time: 14min 29s\n"
     ]
    }
   ],
   "source": [
    "%%time\n",
    "\n",
    "X, Y = [], []\n",
    "df_regr_list = []\n",
    "\n",
    "for _, row in played_schedule.iterrows():   \n",
    "    # This dict contains all of the feature keys and values for this game\n",
    "    game_dict = {}\n",
    "    \n",
    "    # Get the teams and starting players for this game\n",
    "    game_date = row['start_time'].date()\n",
    "    home = convert_team(row['home_team_name'])\n",
    "    visitors = convert_team(row['visiting_team_name'])\n",
    "    home_starters, visitor_starters = get_starters(home, visitors, game_date)\n",
    "    \n",
    "    # Add some housekeeping features to track this particular game\n",
    "    game_dict['home_team_name'] = row['home_team_name']\n",
    "    game_dict['home_team_abbr'] = home\n",
    "    game_dict['visiting_team_name'] = row['visiting_team_name']\n",
    "    game_dict['visiting_team_abbr'] = visitors\n",
    "    game_dict['game_date'] = game_date\n",
    "    \n",
    "    # Create some number of player-based features for our starters\n",
    "    game_dict['home_starters_points_per_game'] = 0\n",
    "    game_dict['home_starters_rebounds_per_game'] = 0\n",
    "    game_dict['home_starters_assists_per_game'] = 0\n",
    "    for player_i in range(len(home_starters)):\n",
    "        player_i_stats = get_player_to_date_stats(home_starters[player_i], game_date)\n",
    "        game_dict['home_starters_points_per_game'] += player_i_stats['points_per_game']\n",
    "        game_dict['home_starters_rebounds_per_game'] += player_i_stats['rebounds_per_game']\n",
    "        game_dict['home_starters_assists_per_game'] += player_i_stats['assists_per_game']\n",
    "\n",
    "        \n",
    "    # Create some number of player-based features for the visitors\n",
    "    game_dict['visitor_starters_points_per_game'] = 0\n",
    "    game_dict['visitor_starters_rebounds_per_game'] = 0\n",
    "    game_dict['visitor_starters_assists_per_game'] = 0\n",
    "    for player_i in range(len(visitor_starters)):\n",
    "        player_i_stats = get_player_to_date_stats(visitor_starters[player_i],game_date)\n",
    "        game_dict['visitor_starters_points_per_game'] += player_i_stats['points_per_game']\n",
    "        game_dict['visitor_starters_rebounds_per_game'] += player_i_stats['rebounds_per_game']\n",
    "        game_dict['visitor_starters_assists_per_game'] += player_i_stats['assists_per_game']\n",
    "    \n",
    "    \n",
    "        \n",
    "    # Create the win-based features for the teams\n",
    "    game_dict['home_won'] = row['home_team_score'] > row['visiting_team_score']\n",
    "    home_win_stats = get_previous_wins(row['home_team_name'], row['visiting_team_name'], game_date)\n",
    "    game_dict['home_team_total_wins'] = home_win_stats['total_current_wins']\n",
    "    game_dict['home_team_wins_as_home'] = home_win_stats['wins_as_home_team']\n",
    "    game_dict['home_team_wins_as_visitor'] = home_win_stats['wins_as_visiting_team']\n",
    "    game_dict['home_team_current_win_streak'] = home_win_stats['current_win_streak']\n",
    "    game_dict['home_team_current_losing_streak'] = home_win_stats['current_losing_streak']\n",
    "    game_dict['home_team_season_series_wins'] = home_win_stats['season_series_wins']\n",
    "    game_dict['home_team_season_series_losses'] = home_win_stats['season_series_losses']\n",
    "    game_dict['home_team_home_win_percent'] = home_win_stats['home_win_percent']\n",
    "    game_dict['home_team_away_win_percent'] = home_win_stats['visiting_win_percent']\n",
    "    game_dict['home_team_total_win_percent'] = home_win_stats['total_win_percent']\n",
    "    \n",
    "    visiting_win_stats = get_previous_wins(row['visiting_team_name'], row['home_team_name'], game_date)\n",
    "    game_dict['visiting_team_total_wins'] = visiting_win_stats['total_current_wins']\n",
    "    game_dict['visiting_team_wins_as_home'] = visiting_win_stats['wins_as_home_team']\n",
    "    game_dict['visiting_team_wins_as_visitor'] = visiting_win_stats['wins_as_visiting_team']\n",
    "    game_dict['visiting_team_current_win_streak'] = visiting_win_stats['current_win_streak']\n",
    "    game_dict['visiting_team_current_losing_streak'] = visiting_win_stats['current_losing_streak']\n",
    "    game_dict['visiting_team_season_series_wins'] = visiting_win_stats['season_series_wins']\n",
    "    game_dict['visiting_team_season_series_losses'] = visiting_win_stats['season_series_losses']\n",
    "    game_dict['visiting_team_home_win_percent'] = visiting_win_stats['home_win_percent']\n",
    "    game_dict['visiting_team_away_win_percent'] = visiting_win_stats['visiting_win_percent']\n",
    "    game_dict['visiting_team_total_win_percent'] = visiting_win_stats['total_win_percent']\n",
    "    \n",
    "    df_regr_list.append(game_dict)"
   ]
  },
  {
   "cell_type": "code",
   "execution_count": 12,
   "metadata": {
    "collapsed": true,
    "deletable": true,
    "editable": true
   },
   "outputs": [],
   "source": [
    "df_regr = pd.DataFrame(df_regr_list)\n",
    "df_regr.to_csv('df_regr.csv')"
   ]
  },
  {
   "cell_type": "code",
   "execution_count": 13,
   "metadata": {
    "collapsed": false
   },
   "outputs": [
    {
     "name": "stdout",
     "output_type": "stream",
     "text": [
      "[[390 432]\n",
      " [421 728]]\n",
      "Accuracy: 56.7%\n",
      "CPU times: user 70 ms, sys: 0 ns, total: 70 ms\n",
      "Wall time: 64.3 ms\n"
     ]
    }
   ],
   "source": [
    "%%time\n",
    "# Limit our feature set to these features for now\n",
    "features = ['home_team_current_losing_streak', 'home_team_current_win_streak', 'home_team_season_series_losses',\n",
    "            'home_team_season_series_wins', 'home_team_total_wins', 'home_team_wins_as_home', \n",
    "            'home_team_wins_as_visitor','visiting_team_current_losing_streak', \n",
    "            'visiting_team_current_win_streak', 'visiting_team_season_series_losses',\n",
    "            'visiting_team_season_series_wins', 'visiting_team_total_wins', 'visiting_team_wins_as_home', \n",
    "            'visiting_team_wins_as_visitor', 'home_team_home_win_percent', 'home_team_away_win_percent',\n",
    "            'home_team_total_win_percent', 'visiting_team_home_win_percent', 'visiting_team_away_win_percent',\n",
    "            'visiting_team_total_win_percent']\n",
    "X_features_subset = df_regr[features]\n",
    "\n",
    "# Standard train/test/split, fit, and predict step\n",
    "#70% of all stats, 30% of all stats, 70% of win/loss, 30% of win/loss\n",
    "X_train, X_test, y_train, y_test = train_test_split(X_features_subset, df_regr['home_won'], test_size=.3)\n",
    "classifier = DecisionTreeClassifier()\n",
    "classifier = classifier.fit(X_train, y_train)\n",
    "predictions = classifier.predict(X_test)\n",
    "\n",
    "#predicted wins (true positive), actual wins (false positive)\n",
    "#predicted losses (false negative), actual losses (true negative)\n",
    "\n",
    "print(confusion_matrix(y_test, predictions))\n",
    "print(\"Accuracy: {0:.1f}%\".format(accuracy_score(y_test, predictions) * 100))"
   ]
  },
  {
   "cell_type": "code",
   "execution_count": 14,
   "metadata": {
    "collapsed": true
   },
   "outputs": [],
   "source": [
    "from sklearn.model_selection import GridSearchCV"
   ]
  },
  {
   "cell_type": "code",
   "execution_count": 15,
   "metadata": {
    "collapsed": false
   },
   "outputs": [
    {
     "name": "stdout",
     "output_type": "stream",
     "text": [
      "CPU times: user 0 ns, sys: 0 ns, total: 0 ns\n",
      "Wall time: 140 µs\n"
     ]
    }
   ],
   "source": [
    "%%time\n",
    "dtc_parameters = {\n",
    "    'criterion':['gini','entropy'],\n",
    "    'splitter':['best','random'],\n",
    "    'max_depth':[None,1,2,4,5,6,7,8,10,12],\n",
    "    'min_samples_split':[2,3,4,5,6,7,10],\n",
    "    'max_features':[None,'log2','sqrt',2,4,6,8,10,12,14,17,19]\n",
    "}\n",
    "#cv = number of cross validation folds\n",
    "dtc_gs = GridSearchCV(DecisionTreeClassifier(), dtc_parameters, cv=5, verbose = 0) "
   ]
  },
  {
   "cell_type": "code",
   "execution_count": 16,
   "metadata": {
    "collapsed": false
   },
   "outputs": [
    {
     "name": "stdout",
     "output_type": "stream",
     "text": [
      "CPU times: user 4min 12s, sys: 820 ms, total: 4min 12s\n",
      "Wall time: 4min 13s\n"
     ]
    },
    {
     "data": {
      "text/plain": [
       "GridSearchCV(cv=5, error_score='raise',\n",
       "       estimator=DecisionTreeClassifier(class_weight=None, criterion='gini', max_depth=None,\n",
       "            max_features=None, max_leaf_nodes=None,\n",
       "            min_impurity_split=1e-07, min_samples_leaf=1,\n",
       "            min_samples_split=2, min_weight_fraction_leaf=0.0,\n",
       "            presort=False, random_state=None, splitter='best'),\n",
       "       fit_params={}, iid=True, n_jobs=1,\n",
       "       param_grid={'splitter': ['best', 'random'], 'criterion': ['gini', 'entropy'], 'max_depth': [None, 1, 2, 4, 5, 6, 7, 8, 10, 12], 'min_samples_split': [2, 3, 4, 5, 6, 7, 10], 'max_features': [None, 'log2', 'sqrt', 2, 4, 6, 8, 10, 12, 14, 17, 19]},\n",
       "       pre_dispatch='2*n_jobs', refit=True, return_train_score=True,\n",
       "       scoring=None, verbose=0)"
      ]
     },
     "execution_count": 16,
     "metadata": {},
     "output_type": "execute_result"
    }
   ],
   "source": [
    "%%time\n",
    "dtc_gs.fit(X_features_subset,df_regr['home_won'])"
   ]
  },
  {
   "cell_type": "code",
   "execution_count": 17,
   "metadata": {
    "collapsed": false
   },
   "outputs": [
    {
     "name": "stdout",
     "output_type": "stream",
     "text": [
      "0.652001826762\n",
      "{'splitter': 'best', 'criterion': 'gini', 'max_depth': 5, 'min_samples_split': 3, 'max_features': 14}\n",
      "DecisionTreeClassifier(class_weight=None, criterion='gini', max_depth=5,\n",
      "            max_features=14, max_leaf_nodes=None, min_impurity_split=1e-07,\n",
      "            min_samples_leaf=1, min_samples_split=3,\n",
      "            min_weight_fraction_leaf=0.0, presort=False, random_state=None,\n",
      "            splitter='best')\n"
     ]
    }
   ],
   "source": [
    "print(dtc_gs.best_score_)\n",
    "print(dtc_gs.best_params_)\n",
    "print(dtc_gs.best_estimator_)"
   ]
  },
  {
   "cell_type": "code",
   "execution_count": 18,
   "metadata": {
    "collapsed": false
   },
   "outputs": [
    {
     "data": {
      "text/html": [
       "<div>\n",
       "<table border=\"1\" class=\"dataframe\">\n",
       "  <thead>\n",
       "    <tr style=\"text-align: right;\">\n",
       "      <th></th>\n",
       "      <th>feature</th>\n",
       "      <th>importance</th>\n",
       "    </tr>\n",
       "  </thead>\n",
       "  <tbody>\n",
       "    <tr>\n",
       "      <th>16</th>\n",
       "      <td>home_team_total_win_percent</td>\n",
       "      <td>0.399150</td>\n",
       "    </tr>\n",
       "    <tr>\n",
       "      <th>19</th>\n",
       "      <td>visiting_team_total_win_percent</td>\n",
       "      <td>0.327836</td>\n",
       "    </tr>\n",
       "    <tr>\n",
       "      <th>15</th>\n",
       "      <td>home_team_away_win_percent</td>\n",
       "      <td>0.077509</td>\n",
       "    </tr>\n",
       "    <tr>\n",
       "      <th>18</th>\n",
       "      <td>visiting_team_away_win_percent</td>\n",
       "      <td>0.073964</td>\n",
       "    </tr>\n",
       "    <tr>\n",
       "      <th>17</th>\n",
       "      <td>visiting_team_home_win_percent</td>\n",
       "      <td>0.056541</td>\n",
       "    </tr>\n",
       "    <tr>\n",
       "      <th>4</th>\n",
       "      <td>home_team_total_wins</td>\n",
       "      <td>0.026049</td>\n",
       "    </tr>\n",
       "    <tr>\n",
       "      <th>6</th>\n",
       "      <td>home_team_wins_as_visitor</td>\n",
       "      <td>0.011141</td>\n",
       "    </tr>\n",
       "    <tr>\n",
       "      <th>1</th>\n",
       "      <td>home_team_current_win_streak</td>\n",
       "      <td>0.010730</td>\n",
       "    </tr>\n",
       "    <tr>\n",
       "      <th>14</th>\n",
       "      <td>home_team_home_win_percent</td>\n",
       "      <td>0.009597</td>\n",
       "    </tr>\n",
       "    <tr>\n",
       "      <th>8</th>\n",
       "      <td>visiting_team_current_win_streak</td>\n",
       "      <td>0.007483</td>\n",
       "    </tr>\n",
       "    <tr>\n",
       "      <th>12</th>\n",
       "      <td>visiting_team_wins_as_home</td>\n",
       "      <td>0.000000</td>\n",
       "    </tr>\n",
       "    <tr>\n",
       "      <th>13</th>\n",
       "      <td>visiting_team_wins_as_visitor</td>\n",
       "      <td>0.000000</td>\n",
       "    </tr>\n",
       "    <tr>\n",
       "      <th>0</th>\n",
       "      <td>home_team_current_losing_streak</td>\n",
       "      <td>0.000000</td>\n",
       "    </tr>\n",
       "    <tr>\n",
       "      <th>11</th>\n",
       "      <td>visiting_team_total_wins</td>\n",
       "      <td>0.000000</td>\n",
       "    </tr>\n",
       "    <tr>\n",
       "      <th>9</th>\n",
       "      <td>visiting_team_season_series_losses</td>\n",
       "      <td>0.000000</td>\n",
       "    </tr>\n",
       "    <tr>\n",
       "      <th>7</th>\n",
       "      <td>visiting_team_current_losing_streak</td>\n",
       "      <td>0.000000</td>\n",
       "    </tr>\n",
       "    <tr>\n",
       "      <th>5</th>\n",
       "      <td>home_team_wins_as_home</td>\n",
       "      <td>0.000000</td>\n",
       "    </tr>\n",
       "    <tr>\n",
       "      <th>3</th>\n",
       "      <td>home_team_season_series_wins</td>\n",
       "      <td>0.000000</td>\n",
       "    </tr>\n",
       "    <tr>\n",
       "      <th>2</th>\n",
       "      <td>home_team_season_series_losses</td>\n",
       "      <td>0.000000</td>\n",
       "    </tr>\n",
       "    <tr>\n",
       "      <th>10</th>\n",
       "      <td>visiting_team_season_series_wins</td>\n",
       "      <td>0.000000</td>\n",
       "    </tr>\n",
       "  </tbody>\n",
       "</table>\n",
       "</div>"
      ],
      "text/plain": [
       "                                feature  importance\n",
       "16          home_team_total_win_percent    0.399150\n",
       "19      visiting_team_total_win_percent    0.327836\n",
       "15           home_team_away_win_percent    0.077509\n",
       "18       visiting_team_away_win_percent    0.073964\n",
       "17       visiting_team_home_win_percent    0.056541\n",
       "4                  home_team_total_wins    0.026049\n",
       "6             home_team_wins_as_visitor    0.011141\n",
       "1          home_team_current_win_streak    0.010730\n",
       "14           home_team_home_win_percent    0.009597\n",
       "8      visiting_team_current_win_streak    0.007483\n",
       "12           visiting_team_wins_as_home    0.000000\n",
       "13        visiting_team_wins_as_visitor    0.000000\n",
       "0       home_team_current_losing_streak    0.000000\n",
       "11             visiting_team_total_wins    0.000000\n",
       "9    visiting_team_season_series_losses    0.000000\n",
       "7   visiting_team_current_losing_streak    0.000000\n",
       "5                home_team_wins_as_home    0.000000\n",
       "3          home_team_season_series_wins    0.000000\n",
       "2        home_team_season_series_losses    0.000000\n",
       "10     visiting_team_season_series_wins    0.000000"
      ]
     },
     "execution_count": 18,
     "metadata": {},
     "output_type": "execute_result"
    }
   ],
   "source": [
    "#find feature importance\n",
    "fi = pd.DataFrame({\n",
    "    'feature' : X_features_subset.columns, \n",
    "    'importance': dtc_gs.best_estimator_.feature_importances_\n",
    "})\n",
    "fi.sort_values('importance', ascending = False, inplace = True)\n",
    "fi"
   ]
  },
  {
   "cell_type": "code",
   "execution_count": 19,
   "metadata": {
    "collapsed": true
   },
   "outputs": [],
   "source": [
    "features = ['home_team_current_win_streak','home_team_total_wins', 'home_team_wins_as_visitor', \n",
    "            'visiting_team_current_win_streak', 'home_team_home_win_percent', \n",
    "            'home_team_away_win_percent', 'home_team_total_win_percent', \n",
    "            'visiting_team_home_win_percent', 'visiting_team_away_win_percent',\n",
    "            'visiting_team_total_win_percent']\n",
    "X_features_subset = df_regr[features]"
   ]
  },
  {
   "cell_type": "code",
   "execution_count": 20,
   "metadata": {
    "collapsed": false
   },
   "outputs": [
    {
     "name": "stdout",
     "output_type": "stream",
     "text": [
      "[[421 417]\n",
      " [415 718]]\n",
      "Accuracy: 57.8%\n"
     ]
    }
   ],
   "source": [
    "X_train, X_test, y_train, y_test = train_test_split(X_features_subset, df_regr['home_won'], test_size=.3)\n",
    "classifier = DecisionTreeClassifier()\n",
    "classifier = classifier.fit(X_train, y_train)\n",
    "predictions = classifier.predict(X_test)\n",
    "\n",
    "#predicted wins (true positive), actual wins (false positive)\n",
    "#predicted losses (false negative), actual losses (true negative)\n",
    "\n",
    "print(confusion_matrix(y_test, predictions))\n",
    "print(\"Accuracy: {0:.1f}%\".format(accuracy_score(y_test, predictions) * 100))"
   ]
  },
  {
   "cell_type": "code",
   "execution_count": 21,
   "metadata": {
    "collapsed": false
   },
   "outputs": [
    {
     "name": "stdout",
     "output_type": "stream",
     "text": [
      "CPU times: user 0 ns, sys: 0 ns, total: 0 ns\n",
      "Wall time: 64.8 µs\n"
     ]
    }
   ],
   "source": [
    "%%time\n",
    "dtc_parameters = {\n",
    "    'criterion':['gini','entropy'],\n",
    "    'splitter':['best','random'],\n",
    "    'max_depth':[None,1,2,3,4,5,6,7,8,9,10],\n",
    "    'min_samples_split':[1,2,3,4,5,6,7,10],\n",
    "    'max_features':[None,'log2','sqrt',2,3,4,5,6,7,8,9]\n",
    "}\n",
    "#cv = number of cross validation folds\n",
    "dtc_gs = GridSearchCV(DecisionTreeClassifier(), dtc_parameters, cv=5, verbose = 0) "
   ]
  },
  {
   "cell_type": "code",
   "execution_count": 22,
   "metadata": {
    "collapsed": false
   },
   "outputs": [
    {
     "name": "stdout",
     "output_type": "stream",
     "text": [
      "CPU times: user 4min 2s, sys: 760 ms, total: 4min 3s\n",
      "Wall time: 4min 3s\n"
     ]
    },
    {
     "data": {
      "text/plain": [
       "GridSearchCV(cv=5, error_score='raise',\n",
       "       estimator=DecisionTreeClassifier(class_weight=None, criterion='gini', max_depth=None,\n",
       "            max_features=None, max_leaf_nodes=None,\n",
       "            min_impurity_split=1e-07, min_samples_leaf=1,\n",
       "            min_samples_split=2, min_weight_fraction_leaf=0.0,\n",
       "            presort=False, random_state=None, splitter='best'),\n",
       "       fit_params={}, iid=True, n_jobs=1,\n",
       "       param_grid={'splitter': ['best', 'random'], 'criterion': ['gini', 'entropy'], 'max_depth': [None, 1, 2, 3, 4, 5, 6, 7, 8, 9, 10], 'min_samples_split': [1, 2, 3, 4, 5, 6, 7, 10], 'max_features': [None, 'log2', 'sqrt', 2, 3, 4, 5, 6, 7, 8, 9]},\n",
       "       pre_dispatch='2*n_jobs', refit=True, return_train_score=True,\n",
       "       scoring=None, verbose=0)"
      ]
     },
     "execution_count": 22,
     "metadata": {},
     "output_type": "execute_result"
    }
   ],
   "source": [
    "%%time\n",
    "dtc_gs.fit(X_features_subset,df_regr['home_won'])"
   ]
  },
  {
   "cell_type": "code",
   "execution_count": 23,
   "metadata": {
    "collapsed": false
   },
   "outputs": [
    {
     "name": "stdout",
     "output_type": "stream",
     "text": [
      "0.651392906074\n",
      "{'splitter': 'best', 'criterion': 'gini', 'max_depth': 4, 'min_samples_split': 7, 'max_features': 3}\n",
      "DecisionTreeClassifier(class_weight=None, criterion='gini', max_depth=4,\n",
      "            max_features=3, max_leaf_nodes=None, min_impurity_split=1e-07,\n",
      "            min_samples_leaf=1, min_samples_split=7,\n",
      "            min_weight_fraction_leaf=0.0, presort=False, random_state=None,\n",
      "            splitter='best')\n"
     ]
    }
   ],
   "source": [
    "print(dtc_gs.best_score_)\n",
    "print(dtc_gs.best_params_)\n",
    "print(dtc_gs.best_estimator_)"
   ]
  },
  {
   "cell_type": "code",
   "execution_count": 24,
   "metadata": {
    "collapsed": false
   },
   "outputs": [
    {
     "data": {
      "text/html": [
       "<div>\n",
       "<table border=\"1\" class=\"dataframe\">\n",
       "  <thead>\n",
       "    <tr style=\"text-align: right;\">\n",
       "      <th></th>\n",
       "      <th>feature</th>\n",
       "      <th>importance</th>\n",
       "    </tr>\n",
       "  </thead>\n",
       "  <tbody>\n",
       "    <tr>\n",
       "      <th>9</th>\n",
       "      <td>visiting_team_total_win_percent</td>\n",
       "      <td>0.417359</td>\n",
       "    </tr>\n",
       "    <tr>\n",
       "      <th>4</th>\n",
       "      <td>home_team_home_win_percent</td>\n",
       "      <td>0.309739</td>\n",
       "    </tr>\n",
       "    <tr>\n",
       "      <th>6</th>\n",
       "      <td>home_team_total_win_percent</td>\n",
       "      <td>0.171321</td>\n",
       "    </tr>\n",
       "    <tr>\n",
       "      <th>5</th>\n",
       "      <td>home_team_away_win_percent</td>\n",
       "      <td>0.076720</td>\n",
       "    </tr>\n",
       "    <tr>\n",
       "      <th>7</th>\n",
       "      <td>visiting_team_home_win_percent</td>\n",
       "      <td>0.017501</td>\n",
       "    </tr>\n",
       "    <tr>\n",
       "      <th>3</th>\n",
       "      <td>visiting_team_current_win_streak</td>\n",
       "      <td>0.007360</td>\n",
       "    </tr>\n",
       "    <tr>\n",
       "      <th>0</th>\n",
       "      <td>home_team_current_win_streak</td>\n",
       "      <td>0.000000</td>\n",
       "    </tr>\n",
       "    <tr>\n",
       "      <th>1</th>\n",
       "      <td>home_team_total_wins</td>\n",
       "      <td>0.000000</td>\n",
       "    </tr>\n",
       "    <tr>\n",
       "      <th>2</th>\n",
       "      <td>home_team_wins_as_visitor</td>\n",
       "      <td>0.000000</td>\n",
       "    </tr>\n",
       "    <tr>\n",
       "      <th>8</th>\n",
       "      <td>visiting_team_away_win_percent</td>\n",
       "      <td>0.000000</td>\n",
       "    </tr>\n",
       "  </tbody>\n",
       "</table>\n",
       "</div>"
      ],
      "text/plain": [
       "                            feature  importance\n",
       "9   visiting_team_total_win_percent    0.417359\n",
       "4        home_team_home_win_percent    0.309739\n",
       "6       home_team_total_win_percent    0.171321\n",
       "5        home_team_away_win_percent    0.076720\n",
       "7    visiting_team_home_win_percent    0.017501\n",
       "3  visiting_team_current_win_streak    0.007360\n",
       "0      home_team_current_win_streak    0.000000\n",
       "1              home_team_total_wins    0.000000\n",
       "2         home_team_wins_as_visitor    0.000000\n",
       "8    visiting_team_away_win_percent    0.000000"
      ]
     },
     "execution_count": 24,
     "metadata": {},
     "output_type": "execute_result"
    }
   ],
   "source": [
    "#find feature importance\n",
    "fi = pd.DataFrame({\n",
    "    'feature' : X_features_subset.columns, \n",
    "    'importance': dtc_gs.best_estimator_.feature_importances_\n",
    "})\n",
    "fi.sort_values('importance', ascending = False, inplace = True)\n",
    "fi"
   ]
  },
  {
   "cell_type": "code",
   "execution_count": 39,
   "metadata": {
    "collapsed": false
   },
   "outputs": [
    {
     "name": "stdout",
     "output_type": "stream",
     "text": [
      "CPU times: user 18min 4s, sys: 2.27 s, total: 18min 6s\n",
      "Wall time: 18min 7s\n"
     ]
    }
   ],
   "source": [
    "%%time\n",
    "\n",
    "X, Y = [], []\n",
    "df_regr_list = []\n",
    "\n",
    "for _, row in played_schedule.iterrows():   \n",
    "    # This dict contains all of the feature keys and values for this game\n",
    "    game_dict = {}\n",
    "    \n",
    "    # Get the teams and starting players for this game\n",
    "    game_date = row['start_time'].date()\n",
    "    home = convert_team(row['home_team_name'])\n",
    "    visitors = convert_team(row['visiting_team_name'])\n",
    "    home_starters, visitor_starters = get_starters(home, visitors, game_date)\n",
    "    \n",
    "    # Add some housekeeping features to track this particular game\n",
    "    game_dict['home_team_name'] = row['home_team_name']\n",
    "    game_dict['home_team_abbr'] = home\n",
    "    game_dict['visiting_team_name'] = row['visiting_team_name']\n",
    "    game_dict['visiting_team_abbr'] = visitors\n",
    "    game_dict['game_date'] = game_date\n",
    "    \n",
    "    game_dict['home_starters_points_per_game'] = 0\n",
    "    game_dict['home_starters_rebounds_per_game'] = 0\n",
    "    game_dict['home_starters_assists_per_game'] = 0\n",
    "    game_dict['home_starters_field_goal_percent'] = 0\n",
    "    game_dict['home_starters_free_throw_percent'] = 0\n",
    "    game_dict['home_starters_three_point_percent'] = 0\n",
    "    for player_i in range(len(home_starters)):\n",
    "        player_i_stats = get_player_to_date_stats(home_starters[player_i],game_date)\n",
    "        game_dict['home_starters_points_per_game'] += player_i_stats['points_per_game']\n",
    "        game_dict['home_starters_rebounds_per_game'] += player_i_stats['rebounds_per_game']\n",
    "        game_dict['home_starters_assists_per_game'] += player_i_stats['assists_per_game']\n",
    "        game_dict['home_starters_field_goal_percent'] += player_i_stats['field_goal_percent']\n",
    "        game_dict['home_starters_free_throw_percent'] += player_i_stats['free_throw_percent']\n",
    "        game_dict['home_starters_three_point_percent'] += player_i_stats['three_point_percent']\n",
    "        \n",
    "\n",
    "    game_dict['visitor_starters_points_per_game'] = 0\n",
    "    game_dict['visitor_starters_rebounds_per_game'] = 0\n",
    "    game_dict['visitor_starters_assists_per_game'] = 0\n",
    "    game_dict['visitor_starters_field_goal_percent'] = 0\n",
    "    game_dict['visitor_starters_free_throw_percent'] = 0\n",
    "    game_dict['visitor_starters_three_point_percent'] = 0\n",
    "    for player_i in range(len(visitor_starters)):\n",
    "        player_i_stats = get_player_to_date_stats(visitor_starters[player_i],game_date)\n",
    "        game_dict['visitor_starters_points_per_game'] += player_i_stats['points_per_game']\n",
    "        game_dict['visitor_starters_rebounds_per_game'] += player_i_stats['rebounds_per_game']\n",
    "        game_dict['visitor_starters_assists_per_game'] += player_i_stats['assists_per_game']\n",
    "        game_dict['visitor_starters_field_goal_percent'] += player_i_stats['field_goal_percent']\n",
    "        game_dict['visitor_starters_free_throw_percent'] += player_i_stats['free_throw_percent']\n",
    "        game_dict['visitor_starters_three_point_percent'] += player_i_stats['three_point_percent']\n",
    "        \n",
    "        \n",
    "    # Create the win-based features for the teams\n",
    "    game_dict['home_won'] = row['home_team_score'] > row['visiting_team_score']\n",
    "    game_dict['is_home'] = 1\n",
    "    home_win_stats = get_previous_wins(row['home_team_name'], row['visiting_team_name'], game_date)\n",
    "    visiting_win_stats = get_previous_wins(row['visiting_team_name'], row['home_team_name'], game_date)\n",
    "\n",
    "    game_dict['home_team_home_win_percent'] = home_win_stats['home_win_percent']\n",
    "    game_dict['home_team_away_win_percent'] = home_win_stats['visiting_win_percent']\n",
    "    game_dict['home_team_total_win_percent'] = home_win_stats['total_win_percent']\n",
    "    game_dict['home_team_home_points'] = home_win_stats['avg_points_scored_at_home']\n",
    "    game_dict['home_team_home_points_given_up'] = home_win_stats['avg_points_given_up_at_home']\n",
    "    game_dict['home_team_away_points'] = home_win_stats['avg_points_scored_away']\n",
    "    game_dict['home_team_away_points_given_up'] = home_win_stats['avg_points_given_up_away']\n",
    "    game_dict['home_team_points'] = home_win_stats['avg_points_for']\n",
    "    game_dict['home_team_points_given_up'] = home_win_stats['avg_points_given_up']\n",
    "\n",
    "    \n",
    "    game_dict['visiting_team_home_win_percent'] = visiting_win_stats['home_win_percent']\n",
    "    game_dict['visiting_team_away_win_percent'] = visiting_win_stats['visiting_win_percent']\n",
    "    game_dict['visiting_team_total_win_percent'] = visiting_win_stats['total_win_percent']\n",
    "    game_dict['visiting_team_home_points'] = visiting_win_stats['avg_points_scored_at_home']\n",
    "    game_dict['visiting_team_home_points_given_up'] = visiting_win_stats['avg_points_given_up_at_home']\n",
    "    game_dict['visiting_team_away_points'] = visiting_win_stats['avg_points_scored_away']\n",
    "    game_dict['visiting_team_away_points_given_up'] = visiting_win_stats['avg_points_given_up_away']\n",
    "    game_dict['visiting_team_points'] = visiting_win_stats['avg_points_for']\n",
    "    game_dict['visiting_team_points_given_up'] = visiting_win_stats['avg_points_given_up']\n",
    "    \n",
    "    game_dict['win_percent_difference_home'] = (home_win_stats['total_win_percent']-visiting_win_stats['total_win_percent'])\n",
    "    \n",
    "    \n",
    "    df_regr_list.append(game_dict)"
   ]
  },
  {
   "cell_type": "code",
   "execution_count": 41,
   "metadata": {
    "collapsed": true
   },
   "outputs": [],
   "source": [
    "df_regr = pd.DataFrame(df_regr_list)\n",
    "df_regr.to_csv('df_regr.csv')\n",
    "#back to back 1 or 0"
   ]
  },
  {
   "cell_type": "code",
   "execution_count": 42,
   "metadata": {
    "collapsed": false
   },
   "outputs": [
    {
     "name": "stdout",
     "output_type": "stream",
     "text": [
      "[[393 422]\n",
      " [396 760]]\n",
      "Accuracy: 58.5%\n",
      "CPU times: user 210 ms, sys: 0 ns, total: 210 ms\n",
      "Wall time: 205 ms\n"
     ]
    }
   ],
   "source": [
    "%%time\n",
    "# Limit our feature set to these features for now\n",
    "features = ['home_starters_points_per_game', 'home_starters_rebounds_per_game', 'home_starters_assists_per_game',\n",
    "            'home_starters_field_goal_percent', 'home_starters_free_throw_percent', 'home_starters_three_point_percent',\n",
    "            'visitor_starters_points_per_game', 'visitor_starters_rebounds_per_game', 'visitor_starters_assists_per_game',\n",
    "            'visitor_starters_field_goal_percent', 'visitor_starters_free_throw_percent', 'visitor_starters_three_point_percent',\n",
    "            'is_home', 'home_team_home_win_percent', 'home_team_away_win_percent', 'home_team_total_win_percent',\n",
    "            'home_team_home_points', 'home_team_home_points_given_up', 'home_team_away_points',\n",
    "            'home_team_away_points_given_up', 'home_team_points', 'home_team_points_given_up',\n",
    "            'visiting_team_home_win_percent', 'visiting_team_away_win_percent', 'visiting_team_total_win_percent',\n",
    "            'visiting_team_home_points', 'visiting_team_home_points_given_up', 'visiting_team_away_points',\n",
    "            'visiting_team_away_points_given_up', 'visiting_team_points', 'visiting_team_points_given_up',\n",
    "            'win_percent_difference_home']\n",
    "X_features_subset = df_regr[features]\n",
    "\n",
    "# Standard train/test/split, fit, and predict step\n",
    "#70% of all stats, 30% of all stats, 70% of win/loss, 30% of win/loss\n",
    "X_train, X_test, y_train, y_test = train_test_split(X_features_subset, df_regr['home_won'], test_size=.3)\n",
    "classifier = DecisionTreeClassifier()\n",
    "classifier = classifier.fit(X_train, y_train)\n",
    "predictions = classifier.predict(X_test)\n",
    "\n",
    "#predicted wins (true positive), actual wins (false positive)\n",
    "#predicted losses (false negative), actual losses (true negative)\n",
    "\n",
    "print(confusion_matrix(y_test, predictions))\n",
    "print(\"Accuracy: {0:.1f}%\".format(accuracy_score(y_test, predictions) * 100))"
   ]
  },
  {
   "cell_type": "code",
   "execution_count": 43,
   "metadata": {
    "collapsed": false
   },
   "outputs": [
    {
     "name": "stdout",
     "output_type": "stream",
     "text": [
      "CPU times: user 0 ns, sys: 0 ns, total: 0 ns\n",
      "Wall time: 85.4 µs\n"
     ]
    }
   ],
   "source": [
    "%%time\n",
    "dtc_parameters = {\n",
    "    'criterion':['gini','entropy'],\n",
    "    'splitter':['best','random'],\n",
    "    'max_depth':[None,1,4,7,10,13,16,19,22,25,28],\n",
    "    'min_samples_split':[1,2,3,4,5,6,7,10],\n",
    "    'max_features':[None,'log2','sqrt',4,7,10,13,16,19,22,25,28]\n",
    "}\n",
    "#cv = number of cross validation folds\n",
    "dtc_gs = GridSearchCV(DecisionTreeClassifier(), dtc_parameters, cv=5, verbose = 0) "
   ]
  },
  {
   "cell_type": "code",
   "execution_count": 44,
   "metadata": {
    "collapsed": false
   },
   "outputs": [
    {
     "name": "stdout",
     "output_type": "stream",
     "text": [
      "CPU times: user 21min 46s, sys: 1.12 s, total: 21min 47s\n",
      "Wall time: 21min 48s\n"
     ]
    },
    {
     "data": {
      "text/plain": [
       "GridSearchCV(cv=5, error_score='raise',\n",
       "       estimator=DecisionTreeClassifier(class_weight=None, criterion='gini', max_depth=None,\n",
       "            max_features=None, max_leaf_nodes=None,\n",
       "            min_impurity_split=1e-07, min_samples_leaf=1,\n",
       "            min_samples_split=2, min_weight_fraction_leaf=0.0,\n",
       "            presort=False, random_state=None, splitter='best'),\n",
       "       fit_params={}, iid=True, n_jobs=1,\n",
       "       param_grid={'splitter': ['best', 'random'], 'criterion': ['gini', 'entropy'], 'max_depth': [None, 1, 4, 7, 10, 13, 16, 19, 22, 25, 28], 'min_samples_split': [1, 2, 3, 4, 5, 6, 7, 10], 'max_features': [None, 'log2', 'sqrt', 4, 7, 10, 13, 16, 19, 22, 25, 28]},\n",
       "       pre_dispatch='2*n_jobs', refit=True, return_train_score=True,\n",
       "       scoring=None, verbose=0)"
      ]
     },
     "execution_count": 44,
     "metadata": {},
     "output_type": "execute_result"
    }
   ],
   "source": [
    "%%time\n",
    "dtc_gs.fit(X_features_subset,df_regr['home_won'])"
   ]
  },
  {
   "cell_type": "code",
   "execution_count": 45,
   "metadata": {
    "collapsed": false
   },
   "outputs": [
    {
     "name": "stdout",
     "output_type": "stream",
     "text": [
      "0.657482112955\n",
      "{'splitter': 'random', 'criterion': 'entropy', 'max_depth': 4, 'min_samples_split': 7, 'max_features': 25}\n",
      "DecisionTreeClassifier(class_weight=None, criterion='entropy', max_depth=4,\n",
      "            max_features=25, max_leaf_nodes=None, min_impurity_split=1e-07,\n",
      "            min_samples_leaf=1, min_samples_split=7,\n",
      "            min_weight_fraction_leaf=0.0, presort=False, random_state=None,\n",
      "            splitter='random')\n"
     ]
    }
   ],
   "source": [
    "print(dtc_gs.best_score_)\n",
    "print(dtc_gs.best_params_)\n",
    "print(dtc_gs.best_estimator_)"
   ]
  },
  {
   "cell_type": "code",
   "execution_count": 46,
   "metadata": {
    "collapsed": false
   },
   "outputs": [
    {
     "data": {
      "text/html": [
       "<div>\n",
       "<table border=\"1\" class=\"dataframe\">\n",
       "  <thead>\n",
       "    <tr style=\"text-align: right;\">\n",
       "      <th></th>\n",
       "      <th>feature</th>\n",
       "      <th>importance</th>\n",
       "    </tr>\n",
       "  </thead>\n",
       "  <tbody>\n",
       "    <tr>\n",
       "      <th>15</th>\n",
       "      <td>home_team_total_win_percent</td>\n",
       "      <td>0.459102</td>\n",
       "    </tr>\n",
       "    <tr>\n",
       "      <th>24</th>\n",
       "      <td>visiting_team_total_win_percent</td>\n",
       "      <td>0.248863</td>\n",
       "    </tr>\n",
       "    <tr>\n",
       "      <th>22</th>\n",
       "      <td>visiting_team_home_win_percent</td>\n",
       "      <td>0.087930</td>\n",
       "    </tr>\n",
       "    <tr>\n",
       "      <th>9</th>\n",
       "      <td>visitor_starters_field_goal_percent</td>\n",
       "      <td>0.056188</td>\n",
       "    </tr>\n",
       "    <tr>\n",
       "      <th>6</th>\n",
       "      <td>visitor_starters_points_per_game</td>\n",
       "      <td>0.031240</td>\n",
       "    </tr>\n",
       "    <tr>\n",
       "      <th>13</th>\n",
       "      <td>home_team_home_win_percent</td>\n",
       "      <td>0.030590</td>\n",
       "    </tr>\n",
       "    <tr>\n",
       "      <th>7</th>\n",
       "      <td>visitor_starters_rebounds_per_game</td>\n",
       "      <td>0.022536</td>\n",
       "    </tr>\n",
       "    <tr>\n",
       "      <th>2</th>\n",
       "      <td>home_starters_assists_per_game</td>\n",
       "      <td>0.019903</td>\n",
       "    </tr>\n",
       "    <tr>\n",
       "      <th>31</th>\n",
       "      <td>win_percent_difference_home</td>\n",
       "      <td>0.018567</td>\n",
       "    </tr>\n",
       "    <tr>\n",
       "      <th>27</th>\n",
       "      <td>visiting_team_away_points</td>\n",
       "      <td>0.018421</td>\n",
       "    </tr>\n",
       "    <tr>\n",
       "      <th>17</th>\n",
       "      <td>home_team_home_points_given_up</td>\n",
       "      <td>0.006660</td>\n",
       "    </tr>\n",
       "    <tr>\n",
       "      <th>20</th>\n",
       "      <td>home_team_points</td>\n",
       "      <td>0.000000</td>\n",
       "    </tr>\n",
       "    <tr>\n",
       "      <th>26</th>\n",
       "      <td>visiting_team_home_points_given_up</td>\n",
       "      <td>0.000000</td>\n",
       "    </tr>\n",
       "    <tr>\n",
       "      <th>25</th>\n",
       "      <td>visiting_team_home_points</td>\n",
       "      <td>0.000000</td>\n",
       "    </tr>\n",
       "    <tr>\n",
       "      <th>28</th>\n",
       "      <td>visiting_team_away_points_given_up</td>\n",
       "      <td>0.000000</td>\n",
       "    </tr>\n",
       "    <tr>\n",
       "      <th>23</th>\n",
       "      <td>visiting_team_away_win_percent</td>\n",
       "      <td>0.000000</td>\n",
       "    </tr>\n",
       "    <tr>\n",
       "      <th>29</th>\n",
       "      <td>visiting_team_points</td>\n",
       "      <td>0.000000</td>\n",
       "    </tr>\n",
       "    <tr>\n",
       "      <th>30</th>\n",
       "      <td>visiting_team_points_given_up</td>\n",
       "      <td>0.000000</td>\n",
       "    </tr>\n",
       "    <tr>\n",
       "      <th>21</th>\n",
       "      <td>home_team_points_given_up</td>\n",
       "      <td>0.000000</td>\n",
       "    </tr>\n",
       "    <tr>\n",
       "      <th>0</th>\n",
       "      <td>home_starters_points_per_game</td>\n",
       "      <td>0.000000</td>\n",
       "    </tr>\n",
       "    <tr>\n",
       "      <th>19</th>\n",
       "      <td>home_team_away_points_given_up</td>\n",
       "      <td>0.000000</td>\n",
       "    </tr>\n",
       "    <tr>\n",
       "      <th>18</th>\n",
       "      <td>home_team_away_points</td>\n",
       "      <td>0.000000</td>\n",
       "    </tr>\n",
       "    <tr>\n",
       "      <th>1</th>\n",
       "      <td>home_starters_rebounds_per_game</td>\n",
       "      <td>0.000000</td>\n",
       "    </tr>\n",
       "    <tr>\n",
       "      <th>14</th>\n",
       "      <td>home_team_away_win_percent</td>\n",
       "      <td>0.000000</td>\n",
       "    </tr>\n",
       "    <tr>\n",
       "      <th>12</th>\n",
       "      <td>is_home</td>\n",
       "      <td>0.000000</td>\n",
       "    </tr>\n",
       "    <tr>\n",
       "      <th>11</th>\n",
       "      <td>visitor_starters_three_point_percent</td>\n",
       "      <td>0.000000</td>\n",
       "    </tr>\n",
       "    <tr>\n",
       "      <th>10</th>\n",
       "      <td>visitor_starters_free_throw_percent</td>\n",
       "      <td>0.000000</td>\n",
       "    </tr>\n",
       "    <tr>\n",
       "      <th>8</th>\n",
       "      <td>visitor_starters_assists_per_game</td>\n",
       "      <td>0.000000</td>\n",
       "    </tr>\n",
       "    <tr>\n",
       "      <th>5</th>\n",
       "      <td>home_starters_three_point_percent</td>\n",
       "      <td>0.000000</td>\n",
       "    </tr>\n",
       "    <tr>\n",
       "      <th>4</th>\n",
       "      <td>home_starters_free_throw_percent</td>\n",
       "      <td>0.000000</td>\n",
       "    </tr>\n",
       "    <tr>\n",
       "      <th>3</th>\n",
       "      <td>home_starters_field_goal_percent</td>\n",
       "      <td>0.000000</td>\n",
       "    </tr>\n",
       "    <tr>\n",
       "      <th>16</th>\n",
       "      <td>home_team_home_points</td>\n",
       "      <td>0.000000</td>\n",
       "    </tr>\n",
       "  </tbody>\n",
       "</table>\n",
       "</div>"
      ],
      "text/plain": [
       "                                 feature  importance\n",
       "15           home_team_total_win_percent    0.459102\n",
       "24       visiting_team_total_win_percent    0.248863\n",
       "22        visiting_team_home_win_percent    0.087930\n",
       "9    visitor_starters_field_goal_percent    0.056188\n",
       "6       visitor_starters_points_per_game    0.031240\n",
       "13            home_team_home_win_percent    0.030590\n",
       "7     visitor_starters_rebounds_per_game    0.022536\n",
       "2         home_starters_assists_per_game    0.019903\n",
       "31           win_percent_difference_home    0.018567\n",
       "27             visiting_team_away_points    0.018421\n",
       "17        home_team_home_points_given_up    0.006660\n",
       "20                      home_team_points    0.000000\n",
       "26    visiting_team_home_points_given_up    0.000000\n",
       "25             visiting_team_home_points    0.000000\n",
       "28    visiting_team_away_points_given_up    0.000000\n",
       "23        visiting_team_away_win_percent    0.000000\n",
       "29                  visiting_team_points    0.000000\n",
       "30         visiting_team_points_given_up    0.000000\n",
       "21             home_team_points_given_up    0.000000\n",
       "0          home_starters_points_per_game    0.000000\n",
       "19        home_team_away_points_given_up    0.000000\n",
       "18                 home_team_away_points    0.000000\n",
       "1        home_starters_rebounds_per_game    0.000000\n",
       "14            home_team_away_win_percent    0.000000\n",
       "12                               is_home    0.000000\n",
       "11  visitor_starters_three_point_percent    0.000000\n",
       "10   visitor_starters_free_throw_percent    0.000000\n",
       "8      visitor_starters_assists_per_game    0.000000\n",
       "5      home_starters_three_point_percent    0.000000\n",
       "4       home_starters_free_throw_percent    0.000000\n",
       "3       home_starters_field_goal_percent    0.000000\n",
       "16                 home_team_home_points    0.000000"
      ]
     },
     "execution_count": 46,
     "metadata": {},
     "output_type": "execute_result"
    }
   ],
   "source": [
    "#find feature importance\n",
    "fi = pd.DataFrame({\n",
    "    'feature' : X_features_subset.columns, \n",
    "    'importance': dtc_gs.best_estimator_.feature_importances_\n",
    "})\n",
    "fi.sort_values('importance', ascending = False, inplace = True)\n",
    "fi"
   ]
  },
  {
   "cell_type": "code",
   "execution_count": 94,
   "metadata": {
    "collapsed": false
   },
   "outputs": [
    {
     "name": "stdout",
     "output_type": "stream",
     "text": [
      "[[388 434]\n",
      " [427 722]]\n",
      "Accuracy: 56.3%\n",
      "CPU times: user 70 ms, sys: 0 ns, total: 70 ms\n",
      "Wall time: 73.3 ms\n"
     ]
    }
   ],
   "source": [
    "%%time\n",
    "# Limit our feature set to these features for now\n",
    "features = ['home_team_total_win_percent', 'visiting_team_total_win_percent', 'visiting_team_home_win_percent',\n",
    "            'visitor_starters_field_goal_percent', 'visitor_starters_points_per_game', 'home_team_home_win_percent',\n",
    "            'visitor_starters_rebounds_per_game', 'home_starters_assists_per_game', 'win_percent_difference_home',\n",
    "            'visiting_team_away_points', 'home_team_home_points_given_up']\n",
    "\n",
    "X_features_subset = df_regr[features]\n",
    "\n",
    "# Standard train/test/split, fit, and predict step\n",
    "#70% of all stats, 30% of all stats, 70% of win/loss, 30% of win/loss\n",
    "X_train, X_test, y_train, y_test = train_test_split(X_features_subset, df_regr['home_won'], test_size=.3)\n",
    "classifier = DecisionTreeClassifier()\n",
    "classifier = classifier.fit(X_train, y_train)\n",
    "predictions = classifier.predict(X_test)\n",
    "\n",
    "#predicted wins (true positive), actual wins (false positive)\n",
    "#predicted losses (false negative), actual losses (true negative)\n",
    "\n",
    "print(confusion_matrix(y_test, predictions))\n",
    "print(\"Accuracy: {0:.1f}%\".format(accuracy_score(y_test, predictions) * 100))"
   ]
  },
  {
   "cell_type": "code",
   "execution_count": 96,
   "metadata": {
    "collapsed": false
   },
   "outputs": [
    {
     "name": "stdout",
     "output_type": "stream",
     "text": [
      "CPU times: user 0 ns, sys: 0 ns, total: 0 ns\n",
      "Wall time: 81.3 µs\n"
     ]
    }
   ],
   "source": [
    "%%time\n",
    "dtc_parameters = {\n",
    "    'criterion':['gini','entropy'],\n",
    "    'splitter':['best','random'],\n",
    "    'max_depth':[None,1,2,4,6,8,10],\n",
    "    'min_samples_split':[1,2,3,4,5,6],\n",
    "    'max_features':[None,'log2','sqrt',2,4,5,6,7,8,9,10,11]\n",
    "}\n",
    "#cv = number of cross validation folds\n",
    "dtc_gs = GridSearchCV(DecisionTreeClassifier(), dtc_parameters, cv=5, verbose = 0) "
   ]
  },
  {
   "cell_type": "code",
   "execution_count": 97,
   "metadata": {
    "collapsed": false
   },
   "outputs": [
    {
     "name": "stdout",
     "output_type": "stream",
     "text": [
      "CPU times: user 3min 24s, sys: 360 ms, total: 3min 24s\n",
      "Wall time: 3min 24s\n"
     ]
    },
    {
     "data": {
      "text/plain": [
       "GridSearchCV(cv=5, error_score='raise',\n",
       "       estimator=DecisionTreeClassifier(class_weight=None, criterion='gini', max_depth=None,\n",
       "            max_features=None, max_leaf_nodes=None,\n",
       "            min_impurity_split=1e-07, min_samples_leaf=1,\n",
       "            min_samples_split=2, min_weight_fraction_leaf=0.0,\n",
       "            presort=False, random_state=None, splitter='best'),\n",
       "       fit_params={}, iid=True, n_jobs=1,\n",
       "       param_grid={'splitter': ['best', 'random'], 'criterion': ['gini', 'entropy'], 'max_depth': [None, 1, 2, 4, 6, 8, 10], 'min_samples_split': [1, 2, 3, 4, 5, 6], 'max_features': [None, 'log2', 'sqrt', 2, 4, 5, 6, 7, 8, 9, 10, 11]},\n",
       "       pre_dispatch='2*n_jobs', refit=True, return_train_score=True,\n",
       "       scoring=None, verbose=0)"
      ]
     },
     "execution_count": 97,
     "metadata": {},
     "output_type": "execute_result"
    }
   ],
   "source": [
    "%%time\n",
    "dtc_gs.fit(X_features_subset,df_regr['home_won'])"
   ]
  },
  {
   "cell_type": "code",
   "execution_count": 98,
   "metadata": {
    "collapsed": false
   },
   "outputs": [
    {
     "name": "stdout",
     "output_type": "stream",
     "text": [
      "0.655959811235\n",
      "{'splitter': 'random', 'criterion': 'gini', 'max_depth': 6, 'min_samples_split': 3, 'max_features': 11}\n",
      "DecisionTreeClassifier(class_weight=None, criterion='gini', max_depth=6,\n",
      "            max_features=11, max_leaf_nodes=None, min_impurity_split=1e-07,\n",
      "            min_samples_leaf=1, min_samples_split=3,\n",
      "            min_weight_fraction_leaf=0.0, presort=False, random_state=None,\n",
      "            splitter='random')\n"
     ]
    }
   ],
   "source": [
    "print(dtc_gs.best_score_)\n",
    "print(dtc_gs.best_params_)\n",
    "print(dtc_gs.best_estimator_)"
   ]
  },
  {
   "cell_type": "code",
   "execution_count": 99,
   "metadata": {
    "collapsed": false
   },
   "outputs": [
    {
     "data": {
      "text/html": [
       "<div>\n",
       "<table border=\"1\" class=\"dataframe\">\n",
       "  <thead>\n",
       "    <tr style=\"text-align: right;\">\n",
       "      <th></th>\n",
       "      <th>feature</th>\n",
       "      <th>importance</th>\n",
       "    </tr>\n",
       "  </thead>\n",
       "  <tbody>\n",
       "    <tr>\n",
       "      <th>8</th>\n",
       "      <td>win_percent_difference_home</td>\n",
       "      <td>0.486368</td>\n",
       "    </tr>\n",
       "    <tr>\n",
       "      <th>5</th>\n",
       "      <td>home_team_home_win_percent</td>\n",
       "      <td>0.201502</td>\n",
       "    </tr>\n",
       "    <tr>\n",
       "      <th>1</th>\n",
       "      <td>visiting_team_total_win_percent</td>\n",
       "      <td>0.065011</td>\n",
       "    </tr>\n",
       "    <tr>\n",
       "      <th>2</th>\n",
       "      <td>visiting_team_home_win_percent</td>\n",
       "      <td>0.064029</td>\n",
       "    </tr>\n",
       "    <tr>\n",
       "      <th>0</th>\n",
       "      <td>home_team_total_win_percent</td>\n",
       "      <td>0.036137</td>\n",
       "    </tr>\n",
       "    <tr>\n",
       "      <th>7</th>\n",
       "      <td>home_starters_assists_per_game</td>\n",
       "      <td>0.033181</td>\n",
       "    </tr>\n",
       "    <tr>\n",
       "      <th>4</th>\n",
       "      <td>visitor_starters_points_per_game</td>\n",
       "      <td>0.030872</td>\n",
       "    </tr>\n",
       "    <tr>\n",
       "      <th>6</th>\n",
       "      <td>visitor_starters_rebounds_per_game</td>\n",
       "      <td>0.030741</td>\n",
       "    </tr>\n",
       "    <tr>\n",
       "      <th>10</th>\n",
       "      <td>home_team_home_points_given_up</td>\n",
       "      <td>0.028663</td>\n",
       "    </tr>\n",
       "    <tr>\n",
       "      <th>9</th>\n",
       "      <td>visiting_team_away_points</td>\n",
       "      <td>0.011841</td>\n",
       "    </tr>\n",
       "    <tr>\n",
       "      <th>3</th>\n",
       "      <td>visitor_starters_field_goal_percent</td>\n",
       "      <td>0.011655</td>\n",
       "    </tr>\n",
       "  </tbody>\n",
       "</table>\n",
       "</div>"
      ],
      "text/plain": [
       "                                feature  importance\n",
       "8           win_percent_difference_home    0.486368\n",
       "5            home_team_home_win_percent    0.201502\n",
       "1       visiting_team_total_win_percent    0.065011\n",
       "2        visiting_team_home_win_percent    0.064029\n",
       "0           home_team_total_win_percent    0.036137\n",
       "7        home_starters_assists_per_game    0.033181\n",
       "4      visitor_starters_points_per_game    0.030872\n",
       "6    visitor_starters_rebounds_per_game    0.030741\n",
       "10       home_team_home_points_given_up    0.028663\n",
       "9             visiting_team_away_points    0.011841\n",
       "3   visitor_starters_field_goal_percent    0.011655"
      ]
     },
     "execution_count": 99,
     "metadata": {},
     "output_type": "execute_result"
    }
   ],
   "source": [
    "#find feature importance\n",
    "fi = pd.DataFrame({\n",
    "    'feature' : X_features_subset.columns, \n",
    "    'importance': dtc_gs.best_estimator_.feature_importances_\n",
    "})\n",
    "fi.sort_values('importance', ascending = False, inplace = True)\n",
    "fi"
   ]
  },
  {
   "cell_type": "code",
   "execution_count": 50,
   "metadata": {
    "collapsed": true
   },
   "outputs": [],
   "source": [
    "from sklearn.ensemble import RandomForestClassifier\n",
    "from sklearn.linear_model import LogisticRegression"
   ]
  },
  {
   "cell_type": "code",
   "execution_count": 91,
   "metadata": {
    "collapsed": false
   },
   "outputs": [
    {
     "name": "stdout",
     "output_type": "stream",
     "text": [
      "[[394 403]\n",
      " [243 931]]\n",
      "Accuracy: 67.2%\n",
      "CPU times: user 180 ms, sys: 30 ms, total: 210 ms\n",
      "Wall time: 192 ms\n"
     ]
    }
   ],
   "source": [
    "%%time\n",
    "# Limit our feature set to these features for now\n",
    "features = ['home_starters_points_per_game', 'home_starters_rebounds_per_game', 'home_starters_assists_per_game',\n",
    "            'home_starters_field_goal_percent', 'home_starters_free_throw_percent', 'home_starters_three_point_percent',\n",
    "            'visitor_starters_points_per_game', 'visitor_starters_rebounds_per_game', 'visitor_starters_assists_per_game',\n",
    "            'visitor_starters_field_goal_percent', 'visitor_starters_free_throw_percent', 'visitor_starters_three_point_percent',\n",
    "            'is_home', 'home_team_home_win_percent', 'home_team_away_win_percent', 'home_team_total_win_percent',\n",
    "            'home_team_home_points', 'home_team_home_points_given_up', 'home_team_away_points',\n",
    "            'home_team_away_points_given_up', 'home_team_points', 'home_team_points_given_up',\n",
    "            'visiting_team_home_win_percent', 'visiting_team_away_win_percent', 'visiting_team_total_win_percent',\n",
    "            'visiting_team_home_points', 'visiting_team_home_points_given_up', 'visiting_team_away_points',\n",
    "            'visiting_team_away_points_given_up', 'visiting_team_points', 'visiting_team_points_given_up',\n",
    "            'win_percent_difference_home']\n",
    "X_features_subset = df_regr[features]\n",
    "\n",
    "# Standard train/test/split, fit, and predict step\n",
    "#70% of all stats, 30% of all stats, 70% of win/loss, 30% of win/loss\n",
    "X_train, X_test, y_train, y_test = train_test_split(X_features_subset, df_regr['home_won'], test_size=.3)\n",
    "classifier = LogisticRegression()\n",
    "classifier = classifier.fit(X_train, y_train)\n",
    "predictions = classifier.predict(X_test)\n",
    "\n",
    "#predicted wins (true positive), actual wins (false positive)\n",
    "#predicted losses (false negative), actual losses (true negative)\n",
    "\n",
    "print(confusion_matrix(y_test, predictions))\n",
    "print(\"Accuracy: {0:.1f}%\".format(accuracy_score(y_test, predictions) * 100))"
   ]
  },
  {
   "cell_type": "code",
   "execution_count": null,
   "metadata": {
    "collapsed": true
   },
   "outputs": [],
   "source": []
  }
 ],
 "metadata": {
  "kernelspec": {
   "display_name": "Python 3",
   "language": "python",
   "name": "python3"
  },
  "language_info": {
   "codemirror_mode": {
    "name": "ipython",
    "version": 3
   },
   "file_extension": ".py",
   "mimetype": "text/x-python",
   "name": "python",
   "nbconvert_exporter": "python",
   "pygments_lexer": "ipython3",
   "version": "3.5.2"
  }
 },
 "nbformat": 4,
 "nbformat_minor": 2
}
